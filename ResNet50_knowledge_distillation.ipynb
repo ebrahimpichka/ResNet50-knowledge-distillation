{
  "cells": [
    {
      "cell_type": "markdown",
      "metadata": {
        "id": "view-in-github",
        "colab_type": "text"
      },
      "source": [
        "<a href=\"https://colab.research.google.com/github/ebrahimpichka/ResNet50-knowledge-distillation/blob/main/ResNet50_knowledge_distillation.ipynb\" target=\"_parent\"><img src=\"https://colab.research.google.com/assets/colab-badge.svg\" alt=\"Open In Colab\"/></a>"
      ]
    },
    {
      "cell_type": "code",
      "execution_count": null,
      "metadata": {
        "id": "6gupjMIvMIaX"
      },
      "outputs": [],
      "source": [
        "import numpy as np\n",
        "import pandas as pd\n",
        "import matplotlib.pyplot as plt\n",
        "\n",
        "import tensorflow as tf\n",
        "import tensorflow_datasets as tfds"
      ]
    },
    {
      "cell_type": "markdown",
      "metadata": {
        "id": "qiRh-u6-MIaZ"
      },
      "source": [
        "## Load and prepare dataset"
      ]
    },
    {
      "cell_type": "code",
      "execution_count": null,
      "metadata": {
        "id": "DPqe2ed_MIab"
      },
      "outputs": [],
      "source": [
        "BATCH_SIZE = 32 \n",
        "classes = ['airplane', 'automobile', 'bird', 'cat', 'deer', 'dog', 'frog', 'horse', 'ship', 'truck']"
      ]
    },
    {
      "cell_type": "code",
      "execution_count": null,
      "metadata": {
        "colab": {
          "base_uri": "https://localhost:8080/"
        },
        "id": "LsE55q0IMIac",
        "outputId": "25cd7e26-eed8-419c-c373-3eb206777085"
      },
      "outputs": [
        {
          "output_type": "stream",
          "name": "stdout",
          "text": [
            "Downloading data from https://www.cs.toronto.edu/~kriz/cifar-10-python.tar.gz\n",
            "170498071/170498071 [==============================] - 43s 0us/step\n"
          ]
        }
      ],
      "source": [
        "(training_images, training_labels) , (validation_images, validation_labels) = tf.keras.datasets.cifar10.load_data()"
      ]
    },
    {
      "cell_type": "code",
      "execution_count": null,
      "metadata": {
        "id": "sY7nnZncMIad"
      },
      "outputs": [],
      "source": [
        "def preprocess_image_input(input_images):\n",
        "    input_images = input_images.astype('float32')\n",
        "    output_ims = tf.keras.applications.resnet50.preprocess_input(input_images)\n",
        "    return output_ims"
      ]
    },
    {
      "cell_type": "code",
      "execution_count": null,
      "metadata": {
        "id": "QCnW2AhqMIad"
      },
      "outputs": [],
      "source": [
        "X_train = preprocess_image_input(training_images)\n",
        "X_val = preprocess_image_input(validation_images)"
      ]
    },
    {
      "cell_type": "code",
      "execution_count": null,
      "metadata": {
        "colab": {
          "base_uri": "https://localhost:8080/",
          "height": 322
        },
        "id": "FFvam1pTMIad",
        "outputId": "4448e579-a236-449c-a135-ee5d54113397"
      },
      "outputs": [
        {
          "output_type": "stream",
          "name": "stderr",
          "text": [
            "WARNING:matplotlib.image:Clipping input data to the valid range for imshow with RGB data ([0..1] for floats or [0..255] for integers).\n"
          ]
        },
        {
          "output_type": "stream",
          "name": "stdout",
          "text": [
            "(50000, 32, 32, 3) (10000, 32, 32, 3)\n"
          ]
        },
        {
          "output_type": "display_data",
          "data": {
            "text/plain": [
              "<Figure size 432x288 with 1 Axes>"
            ],
            "image/png": "[encoded data removed]"
          },
          "metadata": {
            "needs_background": "light"
          }
        }
      ],
      "source": [
        "n_train = X_train.shape[0]\n",
        "n_test = X_val.shape[0]\n",
        "\n",
        "print(X_train.shape, X_val.shape)\n",
        "\n",
        "plt.imshow(X_train[5])\n",
        "plt.show()"
      ]
    },
    {
      "cell_type": "markdown",
      "source": [
        "# ResNet50"
      ],
      "metadata": {
        "id": "4CcOa_05zEKM"
      }
    },
    {
      "cell_type": "markdown",
      "source": [
        "## ResNet50 model creator func"
      ],
      "metadata": {
        "id": "h5Ot2OmWyoP4"
      }
    },
    {
      "cell_type": "code",
      "execution_count": null,
      "metadata": {
        "id": "SdoQtqyTMIaf"
      },
      "outputs": [],
      "source": [
        "from tensorflow.keras.models import Model\n",
        "from tensorflow.keras.applications.resnet50 import ResNet50\n",
        "\n",
        "n_classes = len(classes)\n",
        "\n",
        "def create_model_resnet50():\n",
        "\n",
        "    inputs = tf.keras.layers.Input(shape=(32,32,3))\n",
        "    resize = tf.keras.layers.UpSampling2D(size=(4,4))(inputs)\n",
        "    x = ResNet50(input_shape=(128, 128, 3), include_top=False,weights='imagenet')(resize)\n",
        "    x = tf.keras.layers.GlobalAveragePooling2D()(x)\n",
        "    x = tf.keras.layers.Flatten()(x)\n",
        "    x = tf.keras.layers.Dense(1024, activation=\"relu\")(x)\n",
        "    classification_output = tf.keras.layers.Dense(n_classes, activation=\"softmax\", name=\"classification\")(x)\n",
        "    \n",
        "    model = tf.keras.Model(inputs=inputs, outputs=classification_output)\n",
        "\n",
        "    model.compile(optimizer='adam', \n",
        "                loss='sparse_categorical_crossentropy',\n",
        "                metrics = [tf.keras.metrics.SparseCategoricalAccuracy()])\n",
        "\n",
        "    return model"
      ]
    },
    {
      "cell_type": "markdown",
      "source": [
        "## create ResNet50 model instance and fine-tune last layer"
      ],
      "metadata": {
        "id": "6CLhqfTOM88s"
      }
    },
    {
      "cell_type": "code",
      "execution_count": null,
      "metadata": {
        "colab": {
          "base_uri": "https://localhost:8080/"
        },
        "id": "-jg_LYXWMIag",
        "outputId": "d06cc4a8-237d-4d16-84c0-05186c1ed934"
      },
      "outputs": [
        {
          "output_type": "stream",
          "name": "stdout",
          "text": [
            "Model: \"model_4\"\n",
            "_________________________________________________________________\n",
            " Layer (type)                Output Shape              Param #   \n",
            "=================================================================\n",
            " input_9 (InputLayer)        [(None, 32, 32, 3)]       0         \n",
            "                                                                 \n",
            " up_sampling2d_2 (UpSampling  (None, 128, 128, 3)      0         \n",
            " 2D)                                                             \n",
            "                                                                 \n",
            " resnet50 (Functional)       (None, 4, 4, 2048)        23587712  \n",
            "                                                                 \n",
            " global_average_pooling2d_4   (None, 2048)             0         \n",
            " (GlobalAveragePooling2D)                                        \n",
            "                                                                 \n",
            " flatten_4 (Flatten)         (None, 2048)              0         \n",
            "                                                                 \n",
            " dense_4 (Dense)             (None, 1024)              2098176   \n",
            "                                                                 \n",
            " classification (Dense)      (None, 10)                10250     \n",
            "                                                                 \n",
            "=================================================================\n",
            "Total params: 25,696,138\n",
            "Trainable params: 2,108,426\n",
            "Non-trainable params: 23,587,712\n",
            "_________________________________________________________________\n"
          ]
        }
      ],
      "source": [
        "resnet50_model = create_model_resnet50()\n",
        "for layer in resnet50_model.layers[:-2]:\n",
        "    layer.trainable = False\n",
        "resnet50_model.summary()"
      ]
    },
    {
      "cell_type": "code",
      "source": [
        "device_name = tf.test.gpu_device_name()\n",
        "if device_name != '/device:GPU:0':\n",
        "    raise SystemError('GPU device not found')\n",
        "print('Found GPU at: {}'.format(device_name))"
      ],
      "metadata": {
        "colab": {
          "base_uri": "https://localhost:8080/"
        },
        "id": "GlWj_jHZ7voN",
        "outputId": "51d5044d-2dc4-4691-806d-a57f81d485c1"
      },
      "execution_count": null,
      "outputs": [
        {
          "output_type": "stream",
          "name": "stdout",
          "text": [
            "Found GPU at: /device:GPU:0\n"
          ]
        }
      ]
    },
    {
      "cell_type": "code",
      "execution_count": null,
      "metadata": {
        "colab": {
          "base_uri": "https://localhost:8080/"
        },
        "id": "hD-D8encMIah",
        "outputId": "4c64b5f4-4cbd-4627-ed6c-e6e37a8451dd"
      },
      "outputs": [
        {
          "output_type": "stream",
          "name": "stdout",
          "text": [
            "Epoch 1/4\n",
            "391/391 [==============================] - 228s 569ms/step - loss: 0.5828 - sparse_categorical_accuracy: 0.8061 - val_loss: 1.1008 - val_sparse_categorical_accuracy: 0.6830\n",
            "Epoch 2/4\n",
            "391/391 [==============================] - 175s 448ms/step - loss: 0.3123 - sparse_categorical_accuracy: 0.8942 - val_loss: 0.6388 - val_sparse_categorical_accuracy: 0.8070\n",
            "Epoch 3/4\n",
            "391/391 [==============================] - 177s 454ms/step - loss: 0.2402 - sparse_categorical_accuracy: 0.9178 - val_loss: 0.4498 - val_sparse_categorical_accuracy: 0.8567\n",
            "Epoch 4/4\n",
            "391/391 [==============================] - 177s 454ms/step - loss: 0.1590 - sparse_categorical_accuracy: 0.9450 - val_loss: 0.4694 - val_sparse_categorical_accuracy: 0.8562\n"
          ]
        }
      ],
      "source": [
        "# fine-tuning last layer\n",
        "BATCH_SIZE = 128\n",
        "EPOCHS = 4\n",
        "history = resnet50_model.fit(X_train, training_labels, epochs=EPOCHS, validation_data = (X_val, validation_labels), batch_size=BATCH_SIZE)"
      ]
    },
    {
      "cell_type": "code",
      "execution_count": null,
      "metadata": {
        "colab": {
          "base_uri": "https://localhost:8080/"
        },
        "id": "etCkz2zpMIai",
        "outputId": "7dcc101a-92bc-4048-a07b-ddd91145e7e5"
      },
      "outputs": [
        {
          "output_type": "execute_result",
          "data": {
            "text/plain": [
              "dict_keys(['loss', 'sparse_categorical_accuracy', 'val_loss', 'val_sparse_categorical_accuracy'])"
            ]
          },
          "metadata": {},
          "execution_count": 10
        }
      ],
      "source": [
        "history.history.keys()"
      ]
    },
    {
      "cell_type": "markdown",
      "source": [
        "## visualizing learning curve\n"
      ],
      "metadata": {
        "id": "3-J86LkQzLTV"
      }
    },
    {
      "cell_type": "code",
      "source": [
        "plt.style.use(\"seaborn\")\n",
        "plt.figure(figsize=(12,6))\n",
        "\n",
        "plt.subplot(1,2,1)\n",
        "plt.plot(list(range(EPOCHS)),history.history['loss'], label='train loss')\n",
        "plt.plot(list(range(EPOCHS)),history.history['val_loss'], label='val loss')\n",
        "plt.xlabel(\"Epochs\")\n",
        "plt.ylabel(\"Loss\")\n",
        "plt.legend()\n",
        "\n",
        "plt.subplot(1,2,2)\n",
        "plt.plot(list(range(EPOCHS)),history.history['sparse_categorical_accuracy'], label='train acc')\n",
        "plt.plot(list(range(EPOCHS)),history.history['val_sparse_categorical_accuracy'], label='val acc')\n",
        "plt.xlabel(\"Epochs\")\n",
        "plt.ylabel(\"Loss\")\n",
        "\n",
        "plt.legend()\n",
        "plt.suptitle(\"Resnet50 - CIFAR-10 Last Layer Fine-tuning\", fontsize=16)\n",
        "plt.tight_layout(3.5)\n",
        "plt.savefig('Resnet50-Last Layer Fine-tuning.png');"
      ],
      "metadata": {
        "colab": {
          "base_uri": "https://localhost:8080/",
          "height": 419
        },
        "id": "G3jYDCBoUV5d",
        "outputId": "315e98b2-421b-4760-bc8c-1573a6e10c70"
      },
      "execution_count": null,
      "outputs": [
        {
          "output_type": "display_data",
          "data": {
            "text/plain": [
              "<Figure size 864x432 with 2 Axes>"
            ],
            "image/png": "[encoded data removed]"
          },
          "metadata": {}
        }
      ]
    },
    {
      "cell_type": "code",
      "source": [
        "resnet50_model.save_weights(\"ResNet50_LastLyr_Finetuned_CIFAR10_4ep.h5\")"
      ],
      "metadata": {
        "id": "htqxPssver57"
      },
      "execution_count": null,
      "outputs": []
    },
    {
      "cell_type": "markdown",
      "source": [
        "# ResNet18 (Distilled from pretrained ResNet50)"
      ],
      "metadata": {
        "id": "W-8-dEtZNY1J"
      }
    },
    {
      "cell_type": "code",
      "source": [
        "!pip install keras-cv --upgrade"
      ],
      "metadata": {
        "colab": {
          "base_uri": "https://localhost:8080/"
        },
        "id": "UsiuCr-VYavz",
        "outputId": "34d725d9-0e46-4c9f-ea64-f491b3368f0b"
      },
      "execution_count": null,
      "outputs": [
        {
          "output_type": "stream",
          "name": "stdout",
          "text": [
            "Looking in indexes: https://pypi.org/simple, https://us-python.pkg.dev/colab-wheels/public/simple/\n",
            "Collecting keras-cv\n",
            "  Downloading keras_cv-0.4.0-py3-none-any.whl (595 kB)\n",
            "\u001b[K     |████████████████████████████████| 595 kB 15.2 MB/s \n",
            "\u001b[?25hRequirement already satisfied: packaging in /usr/local/lib/python3.8/dist-packages (from keras-cv) (21.3)\n",
            "Requirement already satisfied: absl-py in /usr/local/lib/python3.8/dist-packages (from keras-cv) (1.3.0)\n",
            "Requirement already satisfied: regex in /usr/local/lib/python3.8/dist-packages (from keras-cv) (2022.6.2)\n",
            "Requirement already satisfied: pyparsing!=3.0.5,>=2.0.2 in /usr/local/lib/python3.8/dist-packages (from packaging->keras-cv) (3.0.9)\n",
            "Installing collected packages: keras-cv\n",
            "Successfully installed keras-cv-0.4.0\n"
          ]
        }
      ]
    },
    {
      "cell_type": "code",
      "source": [
        "from keras_cv.models import ResNet18"
      ],
      "metadata": {
        "id": "kC_2Zjr8YAvS"
      },
      "execution_count": null,
      "outputs": []
    },
    {
      "cell_type": "markdown",
      "source": [
        "## ResNet18 model creator func"
      ],
      "metadata": {
        "id": "kWf5mwVNzf2K"
      }
    },
    {
      "cell_type": "code",
      "source": [
        "def create_model_resnet18(compile=True):\n",
        "\n",
        "    inputs = tf.keras.layers.Input(shape=(32,32,3))\n",
        "    resize = tf.keras.layers.UpSampling2D(size=(4,4))(inputs)\n",
        "    x = ResNet18(include_rescaling=True, include_top=False, input_shape=(128, 128, 3))(resize)\n",
        "    x = tf.keras.layers.GlobalAveragePooling2D()(x)\n",
        "    x = tf.keras.layers.Flatten()(x)\n",
        "    x = tf.keras.layers.Dense(1024, activation=\"relu\")(x)\n",
        "    classification_output = tf.keras.layers.Dense(n_classes, activation=\"softmax\", name=\"classification\")(x)\n",
        "    \n",
        "    model = tf.keras.Model(inputs=inputs, outputs=classification_output)\n",
        "\n",
        "    if compile:\n",
        "        model.compile(optimizer='adam', \n",
        "                    loss='sparse_categorical_crossentropy',\n",
        "                    metrics = [tf.keras.metrics.SparseCategoricalAccuracy()])\n",
        "\n",
        "    return model"
      ],
      "metadata": {
        "id": "ofzWY0M8YiTL"
      },
      "execution_count": null,
      "outputs": []
    },
    {
      "cell_type": "code",
      "source": [
        "class Distiller(tf.keras.Model):\n",
        "    def __init__(self, student, teacher):\n",
        "        super(Distiller, self).__init__()\n",
        "        self.teacher = teacher\n",
        "        self.student = student\n",
        "\n",
        "    def compile(\n",
        "        self,\n",
        "        optimizer,\n",
        "        metrics,\n",
        "        student_loss_fn,\n",
        "        distillation_loss_fn,\n",
        "        alpha=0.1,\n",
        "        temperature=3,\n",
        "    ):\n",
        "        \"\"\" Configure the distiller.\n",
        "\n",
        "        Args:\n",
        "            optimizer: Keras optimizer for the student weights\n",
        "            metrics: Keras metrics for evaluation\n",
        "            student_loss_fn: Loss function of difference between student\n",
        "                predictions and ground-truth\n",
        "            distillation_loss_fn: Loss function of difference between soft\n",
        "                student predictions and soft teacher predictions\n",
        "            alpha: weight to student_loss_fn and 1-alpha to distillation_loss_fn\n",
        "            temperature: Temperature for softening probability distributions.\n",
        "                Larger temperature gives softer distributions.\n",
        "        \"\"\"\n",
        "        super(Distiller, self).compile(optimizer=optimizer, metrics=metrics)\n",
        "        self.student_loss_fn = student_loss_fn\n",
        "        self.distillation_loss_fn = distillation_loss_fn\n",
        "        self.alpha = alpha\n",
        "        self.temperature = temperature\n",
        "\n",
        "    def train_step(self, data):\n",
        "        # Unpack data\n",
        "        x, y = data\n",
        "\n",
        "        # Forward pass of teacher\n",
        "        teacher_predictions = self.teacher(x, training=False)\n",
        "\n",
        "        with tf.GradientTape() as tape:\n",
        "            # Forward pass of student\n",
        "            student_predictions = self.student(x, training=True)\n",
        "\n",
        "            # Compute losses\n",
        "            student_loss = self.student_loss_fn(y, student_predictions)\n",
        "\n",
        "            # Compute scaled distillation loss from https://arxiv.org/abs/1503.02531\n",
        "            # The magnitudes of the gradients produced by the soft targets scale\n",
        "            # as 1/T^2, multiply them by T^2 when using both hard and soft targets.\n",
        "            distillation_loss = (\n",
        "                self.distillation_loss_fn(\n",
        "                    tf.nn.softmax(teacher_predictions / self.temperature, axis=1),\n",
        "                    tf.nn.softmax(student_predictions / self.temperature, axis=1),\n",
        "                )\n",
        "                * self.temperature**2\n",
        "            )\n",
        "\n",
        "            loss = self.alpha * student_loss + (1 - self.alpha) * distillation_loss\n",
        "\n",
        "        # Compute gradients\n",
        "        trainable_vars = self.student.trainable_variables\n",
        "        gradients = tape.gradient(loss, trainable_vars)\n",
        "\n",
        "        # Update weights\n",
        "        self.optimizer.apply_gradients(zip(gradients, trainable_vars))\n",
        "\n",
        "        # Update the metrics configured in `compile()`.\n",
        "        self.compiled_metrics.update_state(y, student_predictions)\n",
        "\n",
        "        # Return a dict of performance\n",
        "        results = {m.name: m.result() for m in self.metrics}\n",
        "        results.update(\n",
        "            {\"student_loss\": student_loss, \"distillation_loss\": distillation_loss}\n",
        "        )\n",
        "        return results\n",
        "\n",
        "    def test_step(self, data):\n",
        "        # Unpack the data\n",
        "        x, y = data\n",
        "\n",
        "        # Compute predictions\n",
        "        y_prediction = self.student(x, training=False)\n",
        "\n",
        "        # Calculate the loss\n",
        "        student_loss = self.student_loss_fn(y, y_prediction)\n",
        "\n",
        "        # Update the metrics.\n",
        "        self.compiled_metrics.update_state(y, y_prediction)\n",
        "\n",
        "        # Return a dict of performance\n",
        "        results = {m.name: m.result() for m in self.metrics}\n",
        "        results.update({\"student_loss\": student_loss})\n",
        "        return results"
      ],
      "metadata": {
        "id": "uwT8533mNcUf"
      },
      "execution_count": null,
      "outputs": []
    },
    {
      "cell_type": "markdown",
      "source": [
        "## create teacher (RN-50 pretrained) and student (RN-18) model instances"
      ],
      "metadata": {
        "id": "FcwRScOMkqOg"
      }
    },
    {
      "cell_type": "code",
      "source": [
        "teacher = resnet50_model\n",
        "\n",
        "# Create the student\n",
        "student = create_model_resnet18(compile=False)\n"
      ],
      "metadata": {
        "id": "4yEI-9mGeRQ0"
      },
      "execution_count": null,
      "outputs": []
    },
    {
      "cell_type": "code",
      "source": [
        "student.summary()"
      ],
      "metadata": {
        "colab": {
          "base_uri": "https://localhost:8080/"
        },
        "id": "YA3FPT9RivPk",
        "outputId": "8ded24b8-83bb-42eb-eeaf-586eaeae120f"
      },
      "execution_count": null,
      "outputs": [
        {
          "output_type": "stream",
          "name": "stdout",
          "text": [
            "Model: \"model_5\"\n",
            "_________________________________________________________________\n",
            " Layer (type)                Output Shape              Param #   \n",
            "=================================================================\n",
            " input_11 (InputLayer)       [(None, 32, 32, 3)]       0         \n",
            "                                                                 \n",
            " up_sampling2d_3 (UpSampling  (None, 128, 128, 3)      0         \n",
            " 2D)                                                             \n",
            "                                                                 \n",
            " resnet18 (Functional)       (None, 4, 4, 512)         11186112  \n",
            "                                                                 \n",
            " global_average_pooling2d_5   (None, 512)              0         \n",
            " (GlobalAveragePooling2D)                                        \n",
            "                                                                 \n",
            " flatten_5 (Flatten)         (None, 512)               0         \n",
            "                                                                 \n",
            " dense_5 (Dense)             (None, 1024)              525312    \n",
            "                                                                 \n",
            " classification (Dense)      (None, 10)                10250     \n",
            "                                                                 \n",
            "=================================================================\n",
            "Total params: 11,721,674\n",
            "Trainable params: 11,712,074\n",
            "Non-trainable params: 9,600\n",
            "_________________________________________________________________\n"
          ]
        }
      ]
    },
    {
      "cell_type": "code",
      "source": [
        "teacher.evaluate(X_val, validation_labels)"
      ],
      "metadata": {
        "colab": {
          "base_uri": "https://localhost:8080/"
        },
        "id": "Mr8mR0UBgbO8",
        "outputId": "6bd531ce-d496-487d-c79b-4d4ff19ee399"
      },
      "execution_count": null,
      "outputs": [
        {
          "output_type": "stream",
          "name": "stdout",
          "text": [
            "313/313 [==============================] - 13s 41ms/step - loss: 0.4694 - sparse_categorical_accuracy: 0.8562\n"
          ]
        },
        {
          "output_type": "execute_result",
          "data": {
            "text/plain": [
              "[0.46941474080085754, 0.8561999797821045]"
            ]
          },
          "metadata": {},
          "execution_count": 32
        }
      ]
    },
    {
      "cell_type": "markdown",
      "source": [
        "teacher has around 85% acc on test set."
      ],
      "metadata": {
        "id": "e9ODzroqhMjf"
      }
    },
    {
      "cell_type": "markdown",
      "source": [
        "## create, compile, and train distiller instance"
      ],
      "metadata": {
        "id": "oIlUqj_Dz-k-"
      }
    },
    {
      "cell_type": "code",
      "source": [
        "distiller = Distiller(student=student, teacher=teacher)\n",
        "distiller.compile(\n",
        "    optimizer=tf.keras.optimizers.Adam(),\n",
        "    metrics=[tf.keras.metrics.SparseCategoricalAccuracy()],\n",
        "    student_loss_fn=tf.keras.losses.SparseCategoricalCrossentropy(from_logits=True),\n",
        "    distillation_loss_fn=tf.keras.losses.KLDivergence(),\n",
        "    alpha=0.05,\n",
        "    temperature=20,\n",
        ")\n",
        "\n",
        "# Distill teacher to student\n",
        "distill_hist = distiller.fit(X_train, training_labels, validation_data = (X_val, validation_labels), epochs=EPOCHS)\n"
      ],
      "metadata": {
        "colab": {
          "base_uri": "https://localhost:8080/"
        },
        "id": "bzq2ob0Egs52",
        "outputId": "7d648ed3-307d-4d58-d089-ff3f38c0d4e4"
      },
      "execution_count": null,
      "outputs": [
        {
          "output_type": "stream",
          "name": "stdout",
          "text": [
            "Epoch 1/4\n"
          ]
        },
        {
          "output_type": "stream",
          "name": "stderr",
          "text": [
            "/usr/local/lib/python3.8/dist-packages/tensorflow/python/util/dispatch.py:1082: UserWarning: \"`sparse_categorical_crossentropy` received `from_logits=True`, but the `output` argument was produced by a sigmoid or softmax activation and thus does not represent logits. Was this intended?\"\n",
            "  return dispatch_target(*args, **kwargs)\n"
          ]
        },
        {
          "output_type": "stream",
          "name": "stdout",
          "text": [
            "1563/1563 [==============================] - 141s 86ms/step - sparse_categorical_accuracy: 0.4813 - student_loss: 1.4286 - distillation_loss: 0.0288 - val_sparse_categorical_accuracy: 0.5365 - val_student_loss: 1.3702\n",
            "Epoch 2/4\n",
            "1563/1563 [==============================] - 133s 85ms/step - sparse_categorical_accuracy: 0.6603 - student_loss: 0.9680 - distillation_loss: 0.0197 - val_sparse_categorical_accuracy: 0.6994 - val_student_loss: 0.8888\n",
            "Epoch 3/4\n",
            "1563/1563 [==============================] - 134s 85ms/step - sparse_categorical_accuracy: 0.7454 - student_loss: 0.7363 - distillation_loss: 0.0150 - val_sparse_categorical_accuracy: 0.7361 - val_student_loss: 1.2820\n",
            "Epoch 4/4\n",
            "1563/1563 [==============================] - 134s 85ms/step - sparse_categorical_accuracy: 0.8001 - student_loss: 0.5863 - distillation_loss: 0.0119 - val_sparse_categorical_accuracy: 0.7835 - val_student_loss: 0.5829\n"
          ]
        }
      ]
    },
    {
      "cell_type": "code",
      "source": [
        "# Evaluate student on test dataset\n",
        "distiller.evaluate(X_val, validation_labels)"
      ],
      "metadata": {
        "colab": {
          "base_uri": "https://localhost:8080/"
        },
        "id": "uYEjfcpKhr1P",
        "outputId": "b355a796-8083-44d1-8e2a-e16965562973"
      },
      "execution_count": null,
      "outputs": [
        {
          "output_type": "stream",
          "name": "stdout",
          "text": [
            "313/313 [==============================] - 4s 14ms/step - sparse_categorical_accuracy: 0.7835 - student_loss: 0.6361\n"
          ]
        },
        {
          "output_type": "execute_result",
          "data": {
            "text/plain": [
              "[0.7835000157356262, 0.5829317569732666]"
            ]
          },
          "metadata": {},
          "execution_count": 34
        }
      ]
    },
    {
      "cell_type": "markdown",
      "source": [
        "## visualizing learning curve"
      ],
      "metadata": {
        "id": "-vxstt1a0KcW"
      }
    },
    {
      "cell_type": "code",
      "source": [
        "plt.style.use(\"seaborn\")\n",
        "plt.figure(figsize=(12,6))\n",
        "\n",
        "\n",
        "plt.subplot(1,2,1)\n",
        "plt.plot(list(range(EPOCHS)),distill_hist.history['student_loss'], label='train student loss')\n",
        "plt.plot(list(range(EPOCHS)),distill_hist.history['distillation_loss'], label='train distillation loss')\n",
        "plt.xlabel(\"Epochs\")\n",
        "plt.ylabel(\"Loss\")\n",
        "plt.legend()\n",
        "\n",
        "plt.subplot(1,2,2)\n",
        "plt.plot(list(range(EPOCHS)),distill_hist.history['sparse_categorical_accuracy'], label='train acc')\n",
        "plt.plot(list(range(EPOCHS)),distill_hist.history['val_sparse_categorical_accuracy'], label='val acc')\n",
        "plt.xlabel(\"Epochs\")\n",
        "plt.ylabel(\"Loss\")\n",
        "\n",
        "plt.legend()\n",
        "plt.suptitle(\"Resnet18 - CIFAR-10 Distilled from Pretrained ResNet50\", fontsize=16)\n",
        "plt.tight_layout(3.5)\n",
        "plt.savefig('Resnet18-distiled from resnet50.png');"
      ],
      "metadata": {
        "colab": {
          "base_uri": "https://localhost:8080/",
          "height": 419
        },
        "id": "Xe37_WB5kMrS",
        "outputId": "8d23ec16-7d66-43e2-960f-6ad79164b1b5"
      },
      "execution_count": null,
      "outputs": [
        {
          "output_type": "display_data",
          "data": {
            "text/plain": [
              "<Figure size 864x432 with 2 Axes>"
            ],
            "image/png": "[encoded data removed]"
          },
          "metadata": {}
        }
      ]
    },
    {
      "cell_type": "code",
      "source": [
        "trained_student = distiller.student\n",
        "trained_student.save_weights(\"ResNet18_Distilled_FromResNet50_4ep.h5\")"
      ],
      "metadata": {
        "id": "LWKfriy8i_gA"
      },
      "execution_count": null,
      "outputs": []
    },
    {
      "cell_type": "markdown",
      "source": [
        "# ResNet18 (trained from scratch w/o distillating)"
      ],
      "metadata": {
        "id": "pyXsajyJh30W"
      }
    },
    {
      "cell_type": "markdown",
      "source": [
        "## create and train RN-18 model instance"
      ],
      "metadata": {
        "id": "OVe-J1xw0gFq"
      }
    },
    {
      "cell_type": "code",
      "source": [
        "\n",
        "# Clone student\n",
        "student_scratch = tf.keras.models.clone_model(student)\n",
        "\n",
        "# Train student from scratch\n",
        "student_scratch.compile(\n",
        "    optimizer=tf.keras.optimizers.Adam(),\n",
        "    loss=tf.keras.losses.SparseCategoricalCrossentropy(from_logits=True),\n",
        "    metrics=[tf.keras.metrics.SparseCategoricalAccuracy()],\n",
        ")\n",
        "\n",
        "# Train and evaluate student trained from scratch.\n",
        "resnet18_hist = student_scratch.fit(X_train, training_labels, validation_data = (X_val, validation_labels), epochs=4)"
      ],
      "metadata": {
        "colab": {
          "base_uri": "https://localhost:8080/"
        },
        "id": "m-7bN_pPhuM3",
        "outputId": "f2a3ec3c-2c4f-4846-d645-da4267d99ed4"
      },
      "execution_count": null,
      "outputs": [
        {
          "output_type": "stream",
          "name": "stdout",
          "text": [
            "Epoch 1/4\n"
          ]
        },
        {
          "output_type": "stream",
          "name": "stderr",
          "text": [
            "/usr/local/lib/python3.8/dist-packages/tensorflow/python/util/dispatch.py:1082: UserWarning: \"`sparse_categorical_crossentropy` received `from_logits=True`, but the `output` argument was produced by a sigmoid or softmax activation and thus does not represent logits. Was this intended?\"\n",
            "  return dispatch_target(*args, **kwargs)\n"
          ]
        },
        {
          "output_type": "stream",
          "name": "stdout",
          "text": [
            "1563/1563 [==============================] - 123s 47ms/step - loss: 1.4688 - sparse_categorical_accuracy: 0.4618 - val_loss: 1.1946 - val_sparse_categorical_accuracy: 0.5749\n",
            "Epoch 2/4\n",
            "1563/1563 [==============================] - 74s 47ms/step - loss: 1.0059 - sparse_categorical_accuracy: 0.6441 - val_loss: 1.0750 - val_sparse_categorical_accuracy: 0.6387\n",
            "Epoch 3/4\n",
            "1563/1563 [==============================] - 75s 48ms/step - loss: 0.7714 - sparse_categorical_accuracy: 0.7293 - val_loss: 0.7572 - val_sparse_categorical_accuracy: 0.7400\n",
            "Epoch 4/4\n",
            "1563/1563 [==============================] - 75s 48ms/step - loss: 0.6091 - sparse_categorical_accuracy: 0.7891 - val_loss: 0.6943 - val_sparse_categorical_accuracy: 0.7661\n"
          ]
        }
      ]
    },
    {
      "cell_type": "code",
      "source": [
        "student_scratch.evaluate(X_val, validation_labels)"
      ],
      "metadata": {
        "colab": {
          "base_uri": "https://localhost:8080/"
        },
        "id": "0lQXp5utlJif",
        "outputId": "89bccfc7-d144-4f8b-e734-03cfda9851fd"
      },
      "execution_count": null,
      "outputs": [
        {
          "output_type": "stream",
          "name": "stdout",
          "text": [
            "313/313 [==============================] - 4s 14ms/step - loss: 0.6943 - sparse_categorical_accuracy: 0.7661\n"
          ]
        },
        {
          "output_type": "execute_result",
          "data": {
            "text/plain": [
              "[0.6943344473838806, 0.7660999894142151]"
            ]
          },
          "metadata": {},
          "execution_count": 41
        }
      ]
    },
    {
      "cell_type": "markdown",
      "source": [
        "## visualizing learning curve"
      ],
      "metadata": {
        "id": "syjwEhNW1Cxy"
      }
    },
    {
      "cell_type": "code",
      "source": [
        "plt.style.use(\"seaborn\")\n",
        "plt.figure(figsize=(12,6))\n",
        "\n",
        "\n",
        "plt.subplot(1,2,1)\n",
        "plt.plot(list(range(EPOCHS)),resnet18_hist.history['loss'], label='train loss')\n",
        "plt.plot(list(range(EPOCHS)),resnet18_hist.history['val_loss'], label='val loss')\n",
        "plt.xlabel(\"Epochs\")\n",
        "plt.ylabel(\"Loss\")\n",
        "plt.legend()\n",
        "\n",
        "plt.subplot(1,2,2)\n",
        "plt.plot(list(range(EPOCHS)),resnet18_hist.history['sparse_categorical_accuracy'], label='train acc')\n",
        "plt.plot(list(range(EPOCHS)),resnet18_hist.history['val_sparse_categorical_accuracy'], label='val acc')\n",
        "plt.xlabel(\"Epochs\")\n",
        "plt.ylabel(\"Loss\")\n",
        "\n",
        "plt.legend()\n",
        "plt.suptitle(\"Resnet18 - CIFAR-10 trained from scratch\", fontsize=16)\n",
        "plt.tight_layout(3.5);"
      ],
      "metadata": {
        "colab": {
          "base_uri": "https://localhost:8080/",
          "height": 419
        },
        "id": "rcfD1yLYlUEd",
        "outputId": "1fdeafea-7953-4f24-acdd-cb77316dc236"
      },
      "execution_count": null,
      "outputs": [
        {
          "output_type": "display_data",
          "data": {
            "text/plain": [
              "<Figure size 864x432 with 2 Axes>"
            ],
            "image/png": "[encoded data removed]"
          },
          "metadata": {}
        }
      ]
    },
    {
      "cell_type": "code",
      "source": [],
      "metadata": {
        "id": "vsuCRIlwlmcQ"
      },
      "execution_count": null,
      "outputs": []
    },
    {
      "cell_type": "markdown",
      "source": [
        "# ResNet50 (fine-tuning the whole network)\n",
        "\n",
        "This time, instead of fine-tunung the last layer. we fine-tune the whole network."
      ],
      "metadata": {
        "id": "ULr5wTVz0mrN"
      }
    },
    {
      "cell_type": "markdown",
      "source": [
        "## create and fine-tune RN-50 model instance"
      ],
      "metadata": {
        "id": "le7tsSnk0mrO"
      }
    },
    {
      "cell_type": "code",
      "source": [
        "# Train ResNet50 from scratch\n",
        "resnet50_ft_all_layers = create_model_resnet50()\n",
        "\n",
        "for layer in resnet50_ft_all_layers.layers:\n",
        "    layer.trainable = True\n",
        "\n",
        "# Train and evaluate student trained from scratch.\n",
        "resnet50_all_hist = resnet50_ft_all_layers.fit(X_train, training_labels, validation_data = (X_val, validation_labels), epochs=4)"
      ],
      "metadata": {
        "colab": {
          "base_uri": "https://localhost:8080/"
        },
        "id": "kqyTOhp8ltBs",
        "outputId": "375a2386-7215-4e95-f05a-ee45f0b8019b"
      },
      "execution_count": null,
      "outputs": [
        {
          "output_type": "stream",
          "name": "stdout",
          "text": [
            "Epoch 1/4\n",
            "1563/1563 [==============================] - 221s 138ms/step - loss: 0.8238 - sparse_categorical_accuracy: 0.7244 - val_loss: 0.7249 - val_sparse_categorical_accuracy: 0.7609\n",
            "Epoch 2/4\n",
            "1563/1563 [==============================] - 214s 137ms/step - loss: 0.4937 - sparse_categorical_accuracy: 0.8329 - val_loss: 0.6296 - val_sparse_categorical_accuracy: 0.7948\n",
            "Epoch 3/4\n",
            "1563/1563 [==============================] - 223s 143ms/step - loss: 0.3733 - sparse_categorical_accuracy: 0.8715 - val_loss: 0.5968 - val_sparse_categorical_accuracy: 0.8030\n",
            "Epoch 4/4\n",
            "1563/1563 [==============================] - 215s 138ms/step - loss: 0.2931 - sparse_categorical_accuracy: 0.8999 - val_loss: 0.4926 - val_sparse_categorical_accuracy: 0.8394\n"
          ]
        }
      ]
    },
    {
      "cell_type": "code",
      "source": [
        "resnet50_ft_all_layers.evaluate(X_val, validation_labels)"
      ],
      "metadata": {
        "colab": {
          "base_uri": "https://localhost:8080/"
        },
        "id": "JaQoWAXVltBs",
        "outputId": "8a8130f6-8899-4c09-efa0-d94d13969305"
      },
      "execution_count": null,
      "outputs": [
        {
          "output_type": "stream",
          "name": "stdout",
          "text": [
            "313/313 [==============================] - 12s 39ms/step - loss: 0.4926 - sparse_categorical_accuracy: 0.8394\n"
          ]
        },
        {
          "output_type": "execute_result",
          "data": {
            "text/plain": [
              "[0.4925635755062103, 0.8393999934196472]"
            ]
          },
          "metadata": {},
          "execution_count": 44
        }
      ]
    },
    {
      "cell_type": "markdown",
      "source": [
        "## visualizing learning curve"
      ],
      "metadata": {
        "id": "pei2J9sz1D0x"
      }
    },
    {
      "cell_type": "code",
      "source": [
        "plt.style.use(\"seaborn\")\n",
        "plt.figure(figsize=(12,6))\n",
        "\n",
        "\n",
        "plt.subplot(1,2,1)\n",
        "plt.plot(list(range(EPOCHS)),resnet50_all_hist.history['loss'], label='train loss')\n",
        "plt.plot(list(range(EPOCHS)),resnet50_all_hist.history['val_loss'], label='val loss')\n",
        "plt.xlabel(\"Epochs\")\n",
        "plt.ylabel(\"Loss\")\n",
        "\n",
        "plt.subplot(1,2,2)\n",
        "plt.plot(list(range(EPOCHS)),resnet50_all_hist.history['sparse_categorical_accuracy'], label='train acc')\n",
        "plt.plot(list(range(EPOCHS)),resnet50_all_hist.history['val_sparse_categorical_accuracy'], label='val acc')\n",
        "plt.xlabel(\"Epochs\")\n",
        "plt.ylabel(\"Loss\")\n",
        "\n",
        "plt.legend()\n",
        "plt.suptitle(\"Resnet50 - CIFAR-10 All layers fine-tuned\", fontsize=16)\n",
        "plt.tight_layout(3.5)\n",
        "plt.savefig('Resnet50-All layers fine-tuned.png');"
      ],
      "metadata": {
        "colab": {
          "base_uri": "https://localhost:8080/",
          "height": 419
        },
        "id": "LymIkY5HltBt",
        "outputId": "60b9722a-6b00-41ce-8c31-d3f7fee20871"
      },
      "execution_count": null,
      "outputs": [
        {
          "output_type": "display_data",
          "data": {
            "text/plain": [
              "<Figure size 864x432 with 2 Axes>"
            ],
            "image/png": "[encoded data removed]"
          },
          "metadata": {}
        }
      ]
    },
    {
      "cell_type": "code",
      "source": [
        "resnet50_ft_all_layers.save_weights(\"ResNet50_CIFAR10_all_lyrs_finetuned_4ep.h5\")"
      ],
      "metadata": {
        "id": "yVk-GlAnmtAf"
      },
      "execution_count": null,
      "outputs": []
    },
    {
      "cell_type": "markdown",
      "source": [
        "# comparing the results "
      ],
      "metadata": {
        "id": "45iuDmRL1GEm"
      }
    },
    {
      "cell_type": "code",
      "source": [
        "RN50_linearFT_res = resnet50_model.evaluate(X_val, validation_labels)\n",
        "RN18_distilledRN50_res = distiller.evaluate(X_val, validation_labels)\n",
        "RN18_scratch_res = student_scratch.evaluate(X_val, validation_labels)\n",
        "RN50_fullFT_res = resnet50_ft_all_layers.evaluate(X_val, validation_labels)\n"
      ],
      "metadata": {
        "colab": {
          "base_uri": "https://localhost:8080/"
        },
        "id": "e3yPpxOonAPt",
        "outputId": "5c6a64c9-1b4d-477a-f91c-247fe8d880b8"
      },
      "execution_count": null,
      "outputs": [
        {
          "output_type": "stream",
          "name": "stdout",
          "text": [
            "313/313 [==============================] - 12s 37ms/step - loss: 0.4694 - sparse_categorical_accuracy: 0.8562\n",
            "313/313 [==============================] - 4s 14ms/step - sparse_categorical_accuracy: 0.7835 - student_loss: 0.6361\n",
            "313/313 [==============================] - 4s 13ms/step - loss: 0.6943 - sparse_categorical_accuracy: 0.7661\n",
            "313/313 [==============================] - 12s 37ms/step - loss: 0.4926 - sparse_categorical_accuracy: 0.8394\n"
          ]
        }
      ]
    },
    {
      "cell_type": "code",
      "source": [
        "\n",
        "rep = pd.DataFrame(\n",
        "    {\n",
        "        \"RN50 linearFT\":RN50_linearFT_res ,\n",
        "        \"RN18 distilledRN50\":reversed(RN18_distilledRN50_res) ,\n",
        "        \"RN18 scratch\":RN18_scratch_res ,\n",
        "        \"RN50 fullFT\":RN50_fullFT_res ,\n",
        "    },\n",
        "    index=[\"val_loss\", \"val_acc\"]\n",
        ").T\n",
        "\n",
        "rep"
      ],
      "metadata": {
        "colab": {
          "base_uri": "https://localhost:8080/",
          "height": 175
        },
        "id": "Ryb2Ka9zJmON",
        "outputId": "472e0949-25f4-4542-a297-0dc504e7f967"
      },
      "execution_count": null,
      "outputs": [
        {
          "output_type": "execute_result",
          "data": {
            "text/plain": [
              "                    val_loss  val_acc\n",
              "RN50 linearFT       0.469415   0.8562\n",
              "RN18 distilledRN50  0.582932   0.7835\n",
              "RN18 scratch        0.694334   0.7661\n",
              "RN50 fullFT         0.492564   0.8394"
            ],
            "text/html": [
              "\n",
              "  <div id=\"df-c7d15bcd-791c-4059-aa27-65f25777d2b1\">\n",
              "    <div class=\"colab-df-container\">\n",
              "      <div>\n",
              "<style scoped>\n",
              "    .dataframe tbody tr th:only-of-type {\n",
              "        vertical-align: middle;\n",
              "    }\n",
              "\n",
              "    .dataframe tbody tr th {\n",
              "        vertical-align: top;\n",
              "    }\n",
              "\n",
              "    .dataframe thead th {\n",
              "        text-align: right;\n",
              "    }\n",
              "</style>\n",
              "<table border=\"1\" class=\"dataframe\">\n",
              "  <thead>\n",
              "    <tr style=\"text-align: right;\">\n",
              "      <th></th>\n",
              "      <th>val_loss</th>\n",
              "      <th>val_acc</th>\n",
              "    </tr>\n",
              "  </thead>\n",
              "  <tbody>\n",
              "    <tr>\n",
              "      <th>RN50 linearFT</th>\n",
              "      <td>0.469415</td>\n",
              "      <td>0.8562</td>\n",
              "    </tr>\n",
              "    <tr>\n",
              "      <th>RN18 distilledRN50</th>\n",
              "      <td>0.582932</td>\n",
              "      <td>0.7835</td>\n",
              "    </tr>\n",
              "    <tr>\n",
              "      <th>RN18 scratch</th>\n",
              "      <td>0.694334</td>\n",
              "      <td>0.7661</td>\n",
              "    </tr>\n",
              "    <tr>\n",
              "      <th>RN50 fullFT</th>\n",
              "      <td>0.492564</td>\n",
              "      <td>0.8394</td>\n",
              "    </tr>\n",
              "  </tbody>\n",
              "</table>\n",
              "</div>\n",
              "      <button class=\"colab-df-convert\" onclick=\"convertToInteractive('df-c7d15bcd-791c-4059-aa27-65f25777d2b1')\"\n",
              "              title=\"Convert this dataframe to an interactive table.\"\n",
              "              style=\"display:none;\">\n",
              "        \n",
              "  <svg xmlns=\"http://www.w3.org/2000/svg\" height=\"24px\"viewBox=\"0 0 24 24\"\n",
              "       width=\"24px\">\n",
              "    <path d=\"M0 0h24v24H0V0z\" fill=\"none\"/>\n",
              "    <path d=\"M18.56 5.44l.94 2.06.94-2.06 2.06-.94-2.06-.94-.94-2.06-.94 2.06-2.06.94zm-11 1L8.5 8.5l.94-2.06 2.06-.94-2.06-.94L8.5 2.5l-.94 2.06-2.06.94zm10 10l.94 2.06.94-2.06 2.06-.94-2.06-.94-.94-2.06-.94 2.06-2.06.94z\"/><path d=\"M17.41 7.96l-1.37-1.37c-.4-.4-.92-.59-1.43-.59-.52 0-1.04.2-1.43.59L10.3 9.45l-7.72 7.72c-.78.78-.78 2.05 0 2.83L4 21.41c.39.39.9.59 1.41.59.51 0 1.02-.2 1.41-.59l7.78-7.78 2.81-2.81c.8-.78.8-2.07 0-2.86zM5.41 20L4 18.59l7.72-7.72 1.47 1.35L5.41 20z\"/>\n",
              "  </svg>\n",
              "      </button>\n",
              "      \n",
              "  <style>\n",
              "    .colab-df-container {\n",
              "      display:flex;\n",
              "      flex-wrap:wrap;\n",
              "      gap: 12px;\n",
              "    }\n",
              "\n",
              "    .colab-df-convert {\n",
              "      background-color: #E8F0FE;\n",
              "      border: none;\n",
              "      border-radius: 50%;\n",
              "      cursor: pointer;\n",
              "      display: none;\n",
              "      fill: #1967D2;\n",
              "      height: 32px;\n",
              "      padding: 0 0 0 0;\n",
              "      width: 32px;\n",
              "    }\n",
              "\n",
              "    .colab-df-convert:hover {\n",
              "      background-color: #E2EBFA;\n",
              "      box-shadow: 0px 1px 2px rgba(60, 64, 67, 0.3), 0px 1px 3px 1px rgba(60, 64, 67, 0.15);\n",
              "      fill: #174EA6;\n",
              "    }\n",
              "\n",
              "    [theme=dark] .colab-df-convert {\n",
              "      background-color: #3B4455;\n",
              "      fill: #D2E3FC;\n",
              "    }\n",
              "\n",
              "    [theme=dark] .colab-df-convert:hover {\n",
              "      background-color: #434B5C;\n",
              "      box-shadow: 0px 1px 3px 1px rgba(0, 0, 0, 0.15);\n",
              "      filter: drop-shadow(0px 1px 2px rgba(0, 0, 0, 0.3));\n",
              "      fill: #FFFFFF;\n",
              "    }\n",
              "  </style>\n",
              "\n",
              "      <script>\n",
              "        const buttonEl =\n",
              "          document.querySelector('#df-c7d15bcd-791c-4059-aa27-65f25777d2b1 button.colab-df-convert');\n",
              "        buttonEl.style.display =\n",
              "          google.colab.kernel.accessAllowed ? 'block' : 'none';\n",
              "\n",
              "        async function convertToInteractive(key) {\n",
              "          const element = document.querySelector('#df-c7d15bcd-791c-4059-aa27-65f25777d2b1');\n",
              "          const dataTable =\n",
              "            await google.colab.kernel.invokeFunction('convertToInteractive',\n",
              "                                                     [key], {});\n",
              "          if (!dataTable) return;\n",
              "\n",
              "          const docLinkHtml = 'Like what you see? Visit the ' +\n",
              "            '<a target=\"_blank\" href=https://colab.research.google.com/notebooks/data_table.ipynb>data table notebook</a>'\n",
              "            + ' to learn more about interactive tables.';\n",
              "          element.innerHTML = '';\n",
              "          dataTable['output_type'] = 'display_data';\n",
              "          await google.colab.output.renderOutput(dataTable, element);\n",
              "          const docLink = document.createElement('div');\n",
              "          docLink.innerHTML = docLinkHtml;\n",
              "          element.appendChild(docLink);\n",
              "        }\n",
              "      </script>\n",
              "    </div>\n",
              "  </div>\n",
              "  "
            ]
          },
          "metadata": {},
          "execution_count": 50
        }
      ]
    },
    {
      "cell_type": "code",
      "source": [
        "rep.plot(kind='bar')"
      ],
      "metadata": {
        "colab": {
          "base_uri": "https://localhost:8080/",
          "height": 443
        },
        "id": "sRqm82K6JzOB",
        "outputId": "48e5b824-33ee-4ce8-be35-d2c7fead3b53"
      },
      "execution_count": null,
      "outputs": [
        {
          "output_type": "execute_result",
          "data": {
            "text/plain": [
              "<matplotlib.axes._subplots.AxesSubplot at 0x7fca102ffaf0>"
            ]
          },
          "metadata": {},
          "execution_count": 52
        },
        {
          "output_type": "display_data",
          "data": {
            "text/plain": [
              "<Figure size 576x396 with 1 Axes>"
            ],
            "image/png": "[encoded data removed]"
          },
          "metadata": {}
        }
      ]
    },
    {
      "cell_type": "code",
      "source": [],
      "metadata": {
        "id": "QAVzQAGPKTX5"
      },
      "execution_count": null,
      "outputs": []
    }
  ],
  "metadata": {
    "kernelspec": {
      "display_name": "Python 3",
      "language": "python",
      "name": "python3"
    },
    "language_info": {
      "codemirror_mode": {
        "name": "ipython",
        "version": 3
      },
      "file_extension": ".py",
      "mimetype": "text/x-python",
      "name": "python",
      "nbconvert_exporter": "python",
      "pygments_lexer": "ipython3",
      "version": "3.9.7"
    },
    "orig_nbformat": 4,
    "vscode": {
      "interpreter": {
        "hash": "25034407fed5d681614dac11a1c0537e8cb49e3a8883c071303eea01322943d9"
      }
    },
    "colab": {
      "provenance": [],
      "toc_visible": true,
      "include_colab_link": true
    },
    "gpuClass": "standard"
  },
  "nbformat": 4,
  "nbformat_minor": 0
}